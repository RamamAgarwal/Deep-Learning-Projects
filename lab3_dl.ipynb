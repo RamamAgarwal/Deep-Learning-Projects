{
  "cells": [
    {
      "cell_type": "markdown",
      "metadata": {
        "id": "qZkS-iPlN0G9"
      },
      "source": [
        "# A Hands-On Introduction to CNNs with PyTorch\n",
        "\n",
        "This notebook is to understand and build their first Convolutional Neural Network (CNN) using the PyTorch framework.\n"
      ]
    },
    {
      "cell_type": "markdown",
      "metadata": {
        "id": "Dq6f2OpaN0HA"
      },
      "source": [
        "## 1: Why Do We Need CNNs?\n",
        "\n",
        "Imagine you want to classify a simple 100x100 pixel color image using a standard Multi-Layer Perceptron (MLP).\n",
        "\n",
        "*   **Input Size:** 100 (width) * 100 (height) * 3 (RGB channels) = **30,000 input features**.\n",
        "*   You would first have to *flatten* this image into a single giant vector of 30,000 numbers.\n",
        "\n",
        "This approach has two major problems:\n",
        "\n",
        "1.  **Huge Number of Parameters:** If your first hidden layer has just 500 neurons, you would have 30,000 x 500 = **15 million** weights for just that one layer! This is computationally expensive, slow to train, and very prone to **overfitting**.\n",
        "\n",
        "2.  **Loss of Spatial Information:** When you flatten the image, you lose all the spatial relationships between pixels. A pixel's relationship with its immediate neighbors is lost. This is not how images work! In an image, local groups of pixels form meaningful patterns like edges, corners, and textures.\n",
        "\n",
        "### The CNN Solution\n",
        "\n",
        "CNNs are designed to solve these problems by using two main ideas:\n",
        "\n",
        "1.  **Convolution:** Uses learnable filters (kernels) that slide over the image to detect local patterns (like edges, corners, textures). This preserves spatial information and drastically reduces parameters through **parameter sharing** (using the same filter across the whole image).\n",
        "\n",
        "2.  **Pooling:** Down-samples the feature maps created by the convolution layers. This makes the representation smaller and more manageable, and also makes the network more robust to small shifts in the position of features."
      ]
    },
    {
      "cell_type": "markdown",
      "metadata": {
        "id": "-MLlYqe7N0HB"
      },
      "source": [
        "## 2: Setting Up Our PyTorch Environment\n",
        "\n",
        "First, let's import the libraries we need. We will be using `torch` for the core framework and `torchvision` for datasets, model architectures, and image transformations."
      ]
    },
    {
      "cell_type": "code",
      "execution_count": 2,
      "metadata": {
        "colab": {
          "base_uri": "https://localhost:8080/"
        },
        "id": "lg0jERZRN0HB",
        "outputId": "266815f4-3a9e-4107-d005-cd4f3b83bb6c"
      },
      "outputs": [
        {
          "output_type": "stream",
          "name": "stdout",
          "text": [
            "Using device: cuda\n"
          ]
        }
      ],
      "source": [
        "import torch\n",
        "import torch.nn as nn\n",
        "import torch.optim as optim\n",
        "import torch.nn.functional as F\n",
        "import torchvision\n",
        "import torchvision.transforms as transforms\n",
        "\n",
        "import matplotlib.pyplot as plt\n",
        "import numpy as np\n",
        "\n",
        "# Set device to GPU if available, otherwise CPU\n",
        "device = torch.device('cuda' if torch.cuda.is_available() else 'cpu')\n",
        "print(f\"Using device: {device}\")"
      ]
    },
    {
      "cell_type": "markdown",
      "metadata": {
        "id": "LlJc3tBlN0HC"
      },
      "source": [
        "## 3: Loading and Preparing the CIFAR-10 Dataset\n",
        "\n",
        "PyTorch's `torchvision` makes it very easy to load standard datasets. We will also apply some transformations to our images.\n",
        "\n",
        "1.  **`transforms.ToTensor()`**: This converts the images from PIL Image format (or NumPy array) into PyTorch Tensors.\n",
        "2.  **`transforms.Normalize()`**: This normalizes the tensor image with a mean and standard deviation."
      ]
    },
    {
      "cell_type": "code",
      "execution_count": 3,
      "metadata": {
        "colab": {
          "base_uri": "https://localhost:8080/"
        },
        "id": "SF2txaDDN0HD",
        "outputId": "71be19a3-0127-485b-810b-64cb8cc7a7cb"
      },
      "outputs": [
        {
          "output_type": "stream",
          "name": "stderr",
          "text": [
            "100%|██████████| 170M/170M [00:05<00:00, 28.9MB/s]\n"
          ]
        }
      ],
      "source": [
        "# Define a chain of transformations to apply to the images\n",
        "transform = transforms.Compose(\n",
        "    [transforms.ToTensor(),\n",
        "     transforms.Normalize((0.5, 0.5, 0.5), (0.5, 0.5, 0.5))])\n",
        "\n",
        "# Set the batch size\n",
        "batch_size = 4\n",
        "\n",
        "# Download and load the training data\n",
        "trainset = torchvision.datasets.CIFAR10(root='./data', train=True,\n",
        "                                        download=True, transform=transform)\n",
        "trainloader = torch.utils.data.DataLoader(trainset, batch_size=batch_size,\n",
        "                                          shuffle=True, num_workers=2)\n",
        "\n",
        "# Download and load the test data\n",
        "testset = torchvision.datasets.CIFAR10(root='./data', train=False,\n",
        "                                       download=True, transform=transform)\n",
        "testloader = torch.utils.data.DataLoader(testset, batch_size=batch_size,\n",
        "                                         shuffle=False, num_workers=2)\n",
        "\n",
        "# Define the class names\n",
        "classes = ('plane', 'car', 'bird', 'cat',\n",
        "           'deer', 'dog', 'frog', 'horse', 'ship', 'truck')"
      ]
    },
    {
      "cell_type": "markdown",
      "metadata": {
        "id": "jsIL5iP4N0HD"
      },
      "source": [
        "### Let's Visualize Some Data\n",
        "\n",
        "Let's check our data by plotting a few images from the training set."
      ]
    },
    {
      "cell_type": "code",
      "execution_count": 4,
      "metadata": {
        "colab": {
          "base_uri": "https://localhost:8080/",
          "height": 210
        },
        "id": "MKXtMsXXN0HD",
        "outputId": "dd81125a-7741-4f2f-b8d1-95c0a96dfc2f"
      },
      "outputs": [
        {
          "output_type": "display_data",
          "data": {
            "text/plain": [
              "<Figure size 640x480 with 1 Axes>"
            ],
            "image/png": "[encoded data removed]"
          },
          "metadata": {}
        },
        {
          "output_type": "stream",
          "name": "stdout",
          "text": [
            "truck plane frog  deer \n"
          ]
        }
      ],
      "source": [
        "def imshow(img):\n",
        "    # Un-normalize the image to display it correctly\n",
        "    img = img / 2 + 0.5\n",
        "    npimg = img.numpy()\n",
        "    plt.imshow(np.transpose(npimg, (1, 2, 0)))\n",
        "    plt.show()\n",
        "\n",
        "# Get some random training images\n",
        "dataiter = iter(trainloader)\n",
        "images, labels = next(dataiter)\n",
        "\n",
        "# Show images\n",
        "imshow(torchvision.utils.make_grid(images))\n",
        "# Print labels\n",
        "print(' '.join(f'{classes[labels[j]]:5s}' for j in range(batch_size)))"
      ]
    },
    {
      "cell_type": "markdown",
      "metadata": {
        "id": "xV3h1adpN0HD"
      },
      "source": [
        "## 4: Building the CNN Model\n",
        "\n",
        "In PyTorch, we define our neural network as a class that inherits from `nn.Module`.\n",
        "\n",
        "- The layers of the network are defined in the `__init__` method.\n",
        "- The forward pass (how data flows through the network) is defined in the `forward` method.\n",
        "\n",
        "Our architecture will be:\n",
        "`CONV1 -> RELU -> POOL1 -> CONV2 -> RELU -> POOL2 -> CONV3 -> RELU -> FC1 -> RELU -> FC2`"
      ]
    },
    {
      "cell_type": "code",
      "execution_count": 5,
      "metadata": {
        "colab": {
          "base_uri": "https://localhost:8080/"
        },
        "id": "Ojmkni1MN0HD",
        "outputId": "c89329f9-0379-46d6-e06c-8222045541d4"
      },
      "outputs": [
        {
          "output_type": "stream",
          "name": "stdout",
          "text": [
            "Net(\n",
            "  (conv1): Conv2d(3, 32, kernel_size=(3, 3), stride=(1, 1), padding=(1, 1))\n",
            "  (conv2): Conv2d(32, 64, kernel_size=(3, 3), stride=(1, 1), padding=(1, 1))\n",
            "  (conv3): Conv2d(64, 128, kernel_size=(3, 3), stride=(1, 1), padding=(1, 1))\n",
            "  (pool): MaxPool2d(kernel_size=2, stride=2, padding=0, dilation=1, ceil_mode=False)\n",
            "  (fc1): Linear(in_features=2048, out_features=256, bias=True)\n",
            "  (fc2): Linear(in_features=256, out_features=10, bias=True)\n",
            ")\n"
          ]
        }
      ],
      "source": [
        "class Net(nn.Module):\n",
        "    def __init__(self):\n",
        "        super().__init__()\n",
        "        num_classes=10\n",
        "        # 1. Convolutional Layers\n",
        "        # nn.Conv2d(in_channels, out_channels, kernel_size)\n",
        "        # Input image has 3 channels (RGB).\n",
        "        # Choose the number of output channels to gradually increase feature maps (e.g., 32, 64...).\n",
        "        # Kernel size is usually small (e.g., 3x3) with padding to keep the same spatial size.\n",
        "\n",
        "        self.conv1 = nn.Conv2d(in_channels=3, out_channels=32, kernel_size=3, padding=1)\n",
        "        self.conv2 = nn.Conv2d(in_channels=32, out_channels=64, kernel_size=3, padding=1)\n",
        "        self.conv3 = nn.Conv2d(in_channels=64, out_channels=128, kernel_size=3, padding=1)\n",
        "\n",
        "        # 2. Pooling Layer\n",
        "        # nn.MaxPool2d(kernel_size, stride)\n",
        "        # Typically reduces spatial dimensions by half each time (common choice is 2x2).\n",
        "        self.pool = nn.MaxPool2d(kernel_size=2, stride=2)\n",
        "\n",
        "        # 3. Fully Connected (Linear) Layers\n",
        "        # After several pooling layers, the spatial dimension shrinks step by step.\n",
        "        # Flatten the feature maps and connect them to fully connected layers.\n",
        "        # The final layer should match the number of output classes (e.g., 10 for CIFAR-10).\n",
        "\n",
        "        self.fc1 = nn.Linear(128 * 4 * 4, 256)\n",
        "        self.fc2 = nn.Linear(256, num_classes)\n",
        "\n",
        "\n",
        "    def forward(self, x):\n",
        "        # Convolutional Block 1\n",
        "        # Input -> Conv -> Activation -> Pooling\n",
        "        # Size reduces by half after pooling.\n",
        "\n",
        "        x = self.pool(F.relu(self.conv1(x)))\n",
        "\n",
        "        # Convolutional Block 2\n",
        "        # Conv -> Activation -> Pooling\n",
        "\n",
        "        x = self.pool(F.relu(self.conv2(x)))\n",
        "\n",
        "        # Convolutional Block 3\n",
        "        # Conv -> Activation -> Pooling\n",
        "\n",
        "        x = self.pool(F.relu(self.conv3(x)))\n",
        "\n",
        "        # Flatten the output for the fully connected layers\n",
        "        # Number of input features = (channels * height * width).\n",
        "\n",
        "        x = x.view(x.size(0), -1)\n",
        "\n",
        "        # Fully Connected Layers\n",
        "        # Gradually reduce dimensions, last layer = number of classes.\n",
        "\n",
        "        x = F.relu(self.fc1(x))\n",
        "        x = self.fc2(x)\n",
        "\n",
        "        # Output is raw logits, no activation here\n",
        "        return x\n",
        "\n",
        "# Create an instance of the network and move it to the correct device\n",
        "net = Net().to(device)\n",
        "print(net)\n"
      ]
    },
    {
      "cell_type": "markdown",
      "metadata": {
        "id": "sTf50q7bN0HE"
      },
      "source": [
        "## 5: Defining a Loss Function and Optimizer\n",
        "\n",
        "* **Loss Function**:  \n",
        "  Which loss function should you use, and why?  \n",
        "  For example, you can consider: `CrossEntropyLoss`, `BCELoss`, `MSELoss`, or `NLLLoss`.\n",
        "\n",
        "* **Optimizer**:  \n",
        "  Which optimizer would you choose to train the model, and why?  \n",
        "  For example, you might use: `Adam`, `SGD with momentum`, or `RMSprop`.\n"
      ]
    },
    {
      "cell_type": "code",
      "execution_count": 6,
      "metadata": {
        "id": "2l9nDlhNN0HE"
      },
      "outputs": [],
      "source": [
        "criterion = nn.CrossEntropyLoss()\n",
        "optimizer = optim.Adam(net.parameters(), lr=1e-3, weight_decay=5e-4)"
      ]
    },
    {
      "cell_type": "markdown",
      "metadata": {
        "id": "keqEGpGkN0HE"
      },
      "source": [
        "## 6: Training the Model\n",
        "\n",
        "This is the core of the learning process. Unlike Keras's `.fit()` method, in PyTorch, we write the training loop ourselves. This gives us more control and is great for understanding what's happening under the hood.\n",
        "\n",
        "The process for each batch is:\n",
        "1.  Get a batch of `inputs` and `labels` from the `trainloader`.\n",
        "2.  Move the data to the GPU .\n",
        "3.  **Zero the gradients** This is critical!\n",
        "4.  **Forward Pass**: Feed the inputs through the network.\n",
        "5.  **Calculate Loss**: Compare the network's outputs with the true labels.\n",
        "6.  **Backward Pass**: Calculate the gradients.\n",
        "7.  **Update Weights**: The optimizer updates the network's weights based on the calculated gradients."
      ]
    },
    {
      "cell_type": "code",
      "execution_count": 8,
      "metadata": {
        "colab": {
          "base_uri": "https://localhost:8080/"
        },
        "id": "dApXhjM0N0HE",
        "outputId": "e40b908a-07e8-43a2-aa92-35476222b223"
      },
      "outputs": [
        {
          "output_type": "stream",
          "name": "stdout",
          "text": [
            "[Epoch 1/5] Batch   500  Avg Loss: 2.1099\n",
            "[Epoch 1/5] Batch  1000  Avg Loss: 1.8224\n",
            "[Epoch 1/5] Batch  1500  Avg Loss: 1.6847\n",
            "[Epoch 1/5] Batch  2000  Avg Loss: 1.5741\n",
            "[Epoch 1/5] Batch  2500  Avg Loss: 1.4961\n",
            "[Epoch 1/5] Batch  3000  Avg Loss: 1.4142\n",
            "[Epoch 1/5] Batch  3500  Avg Loss: 1.4221\n",
            "[Epoch 1/5] Batch  4000  Avg Loss: 1.4281\n",
            "[Epoch 1/5] Batch  4500  Avg Loss: 1.3611\n",
            "[Epoch 1/5] Batch  5000  Avg Loss: 1.3146\n",
            "[Epoch 1/5] Batch  5500  Avg Loss: 1.3380\n",
            "[Epoch 1/5] Batch  6000  Avg Loss: 1.2859\n",
            "[Epoch 1/5] Batch  6500  Avg Loss: 1.2802\n",
            "[Epoch 1/5] Batch  7000  Avg Loss: 1.2376\n",
            "[Epoch 1/5] Batch  7500  Avg Loss: 1.2184\n",
            "[Epoch 1/5] Batch  8000  Avg Loss: 1.2284\n",
            "[Epoch 1/5] Batch  8500  Avg Loss: 1.2239\n",
            "[Epoch 1/5] Batch  9000  Avg Loss: 1.1487\n",
            "[Epoch 1/5] Batch  9500  Avg Loss: 1.1621\n",
            "[Epoch 1/5] Batch 10000  Avg Loss: 1.1333\n",
            "[Epoch 1/5] Batch 10500  Avg Loss: 1.1292\n",
            "[Epoch 1/5] Batch 11000  Avg Loss: 1.1308\n",
            "[Epoch 1/5] Batch 11500  Avg Loss: 1.0882\n",
            "[Epoch 1/5] Batch 12000  Avg Loss: 1.0809\n",
            "[Epoch 1/5] Batch 12500  Avg Loss: 1.0911\n",
            "[Epoch 2/5] Batch   500  Avg Loss: 0.9956\n",
            "[Epoch 2/5] Batch  1000  Avg Loss: 1.0358\n",
            "[Epoch 2/5] Batch  1500  Avg Loss: 1.0098\n",
            "[Epoch 2/5] Batch  2000  Avg Loss: 1.0143\n",
            "[Epoch 2/5] Batch  2500  Avg Loss: 1.0315\n",
            "[Epoch 2/5] Batch  3000  Avg Loss: 0.9793\n",
            "[Epoch 2/5] Batch  3500  Avg Loss: 0.9832\n",
            "[Epoch 2/5] Batch  4000  Avg Loss: 0.9614\n",
            "[Epoch 2/5] Batch  4500  Avg Loss: 0.9985\n",
            "[Epoch 2/5] Batch  5000  Avg Loss: 1.0066\n",
            "[Epoch 2/5] Batch  5500  Avg Loss: 0.9889\n",
            "[Epoch 2/5] Batch  6000  Avg Loss: 0.9088\n",
            "[Epoch 2/5] Batch  6500  Avg Loss: 1.0315\n",
            "[Epoch 2/5] Batch  7000  Avg Loss: 0.9213\n",
            "[Epoch 2/5] Batch  7500  Avg Loss: 0.9477\n",
            "[Epoch 2/5] Batch  8000  Avg Loss: 0.9383\n",
            "[Epoch 2/5] Batch  8500  Avg Loss: 0.9334\n",
            "[Epoch 2/5] Batch  9000  Avg Loss: 0.9690\n",
            "[Epoch 2/5] Batch  9500  Avg Loss: 0.9816\n",
            "[Epoch 2/5] Batch 10000  Avg Loss: 0.9812\n",
            "[Epoch 2/5] Batch 10500  Avg Loss: 0.9756\n",
            "[Epoch 2/5] Batch 11000  Avg Loss: 0.9879\n",
            "[Epoch 2/5] Batch 11500  Avg Loss: 0.9690\n",
            "[Epoch 2/5] Batch 12000  Avg Loss: 0.9556\n",
            "[Epoch 2/5] Batch 12500  Avg Loss: 0.9155\n",
            "[Epoch 3/5] Batch   500  Avg Loss: 0.8623\n",
            "[Epoch 3/5] Batch  1000  Avg Loss: 0.8611\n",
            "[Epoch 3/5] Batch  1500  Avg Loss: 0.8297\n",
            "[Epoch 3/5] Batch  2000  Avg Loss: 0.8320\n",
            "[Epoch 3/5] Batch  2500  Avg Loss: 0.8734\n",
            "[Epoch 3/5] Batch  3000  Avg Loss: 0.8290\n",
            "[Epoch 3/5] Batch  3500  Avg Loss: 0.8656\n",
            "[Epoch 3/5] Batch  4000  Avg Loss: 0.8522\n",
            "[Epoch 3/5] Batch  4500  Avg Loss: 0.8691\n",
            "[Epoch 3/5] Batch  5000  Avg Loss: 0.8907\n",
            "[Epoch 3/5] Batch  5500  Avg Loss: 0.8539\n",
            "[Epoch 3/5] Batch  6000  Avg Loss: 0.9130\n",
            "[Epoch 3/5] Batch  6500  Avg Loss: 0.8497\n",
            "[Epoch 3/5] Batch  7000  Avg Loss: 0.8713\n",
            "[Epoch 3/5] Batch  7500  Avg Loss: 0.9071\n",
            "[Epoch 3/5] Batch  8000  Avg Loss: 0.8696\n",
            "[Epoch 3/5] Batch  8500  Avg Loss: 0.9062\n",
            "[Epoch 3/5] Batch  9000  Avg Loss: 0.8432\n",
            "[Epoch 3/5] Batch  9500  Avg Loss: 0.8909\n",
            "[Epoch 3/5] Batch 10000  Avg Loss: 0.8464\n",
            "[Epoch 3/5] Batch 10500  Avg Loss: 0.8898\n",
            "[Epoch 3/5] Batch 11000  Avg Loss: 0.8630\n",
            "[Epoch 3/5] Batch 11500  Avg Loss: 0.8788\n",
            "[Epoch 3/5] Batch 12000  Avg Loss: 0.8164\n",
            "[Epoch 3/5] Batch 12500  Avg Loss: 0.8365\n",
            "[Epoch 4/5] Batch   500  Avg Loss: 0.7726\n",
            "[Epoch 4/5] Batch  1000  Avg Loss: 0.7444\n",
            "[Epoch 4/5] Batch  1500  Avg Loss: 0.7690\n",
            "[Epoch 4/5] Batch  2000  Avg Loss: 0.8137\n",
            "[Epoch 4/5] Batch  2500  Avg Loss: 0.8028\n",
            "[Epoch 4/5] Batch  3000  Avg Loss: 0.7946\n",
            "[Epoch 4/5] Batch  3500  Avg Loss: 0.7675\n",
            "[Epoch 4/5] Batch  4000  Avg Loss: 0.7247\n",
            "[Epoch 4/5] Batch  4500  Avg Loss: 0.7798\n",
            "[Epoch 4/5] Batch  5000  Avg Loss: 0.8151\n",
            "[Epoch 4/5] Batch  5500  Avg Loss: 0.8215\n",
            "[Epoch 4/5] Batch  6000  Avg Loss: 0.8124\n",
            "[Epoch 4/5] Batch  6500  Avg Loss: 0.7902\n",
            "[Epoch 4/5] Batch  7000  Avg Loss: 0.7947\n",
            "[Epoch 4/5] Batch  7500  Avg Loss: 0.7980\n",
            "[Epoch 4/5] Batch  8000  Avg Loss: 0.8486\n",
            "[Epoch 4/5] Batch  8500  Avg Loss: 0.8102\n",
            "[Epoch 4/5] Batch  9000  Avg Loss: 0.7985\n",
            "[Epoch 4/5] Batch  9500  Avg Loss: 0.8630\n",
            "[Epoch 4/5] Batch 10000  Avg Loss: 0.8171\n",
            "[Epoch 4/5] Batch 10500  Avg Loss: 0.8159\n",
            "[Epoch 4/5] Batch 11000  Avg Loss: 0.8892\n",
            "[Epoch 4/5] Batch 11500  Avg Loss: 0.7911\n",
            "[Epoch 4/5] Batch 12000  Avg Loss: 0.8127\n",
            "[Epoch 4/5] Batch 12500  Avg Loss: 0.8361\n",
            "[Epoch 5/5] Batch   500  Avg Loss: 0.7148\n",
            "[Epoch 5/5] Batch  1000  Avg Loss: 0.7378\n",
            "[Epoch 5/5] Batch  1500  Avg Loss: 0.7359\n",
            "[Epoch 5/5] Batch  2000  Avg Loss: 0.7061\n",
            "[Epoch 5/5] Batch  2500  Avg Loss: 0.7630\n",
            "[Epoch 5/5] Batch  3000  Avg Loss: 0.7614\n",
            "[Epoch 5/5] Batch  3500  Avg Loss: 0.7684\n",
            "[Epoch 5/5] Batch  4000  Avg Loss: 0.7265\n",
            "[Epoch 5/5] Batch  4500  Avg Loss: 0.7677\n",
            "[Epoch 5/5] Batch  5000  Avg Loss: 0.7868\n",
            "[Epoch 5/5] Batch  5500  Avg Loss: 0.8248\n",
            "[Epoch 5/5] Batch  6000  Avg Loss: 0.7803\n",
            "[Epoch 5/5] Batch  6500  Avg Loss: 0.7712\n",
            "[Epoch 5/5] Batch  7000  Avg Loss: 0.7593\n",
            "[Epoch 5/5] Batch  7500  Avg Loss: 0.7689\n",
            "[Epoch 5/5] Batch  8000  Avg Loss: 0.7140\n",
            "[Epoch 5/5] Batch  8500  Avg Loss: 0.7202\n",
            "[Epoch 5/5] Batch  9000  Avg Loss: 0.7611\n",
            "[Epoch 5/5] Batch  9500  Avg Loss: 0.7735\n",
            "[Epoch 5/5] Batch 10000  Avg Loss: 0.7508\n",
            "[Epoch 5/5] Batch 10500  Avg Loss: 0.8067\n",
            "[Epoch 5/5] Batch 11000  Avg Loss: 0.7866\n",
            "[Epoch 5/5] Batch 11500  Avg Loss: 0.8198\n",
            "[Epoch 5/5] Batch 12000  Avg Loss: 0.7742\n",
            "[Epoch 5/5] Batch 12500  Avg Loss: 0.7993\n",
            "Finished Training\n"
          ]
        }
      ],
      "source": [
        "num_epochs = 5  # decide how many times to loop over the dataset\n",
        "\n",
        "for epoch in range(num_epochs):\n",
        "    running_loss = 0.0\n",
        "    for i, data in enumerate(trainloader, 0):\n",
        "        # Get the inputs; data is a list of [inputs, labels]\n",
        "        inputs, labels = data\n",
        "\n",
        "        # 1. Zero the parameter gradients\n",
        "        optimizer.zero_grad()\n",
        "\n",
        "        # Move data to device (GPU/CPU)\n",
        "        inputs = inputs.to(device)\n",
        "        labels = labels.to(device)\n",
        "\n",
        "        # 2. Forward pass\n",
        "        outputs = net(inputs)\n",
        "\n",
        "        # 3. Calculate loss\n",
        "        loss = criterion(outputs, labels)\n",
        "\n",
        "        # 4. Backward pass\n",
        "        loss.backward()\n",
        "\n",
        "        # 5. Optimize\n",
        "        optimizer.step()\n",
        "\n",
        "        # Track statistics (hint: print every few batches, not every iteration)\n",
        "        running_loss += loss.item()\n",
        "        if (i + 1) % 500 == 0:\n",
        "            avg_loss = running_loss / 500\n",
        "            print(f\"[Epoch {epoch+1}/{num_epochs}] Batch {i+1:5d}  Avg Loss: {avg_loss:.4f}\")\n",
        "            running_loss = 0.0\n",
        "\n",
        "print('Finished Training')"
      ]
    },
    {
      "cell_type": "markdown",
      "metadata": {
        "id": "VI4-opHwN0HE"
      },
      "source": [
        "## 7: Evaluating the Model\n",
        "\n",
        "Now that the model is trained, let's see how it performs on the test dataset. We don't need to calculate gradients for evaluation, so we use `torch.no_grad()` to make the process faster and more memory-efficient.\n",
        "\n",
        "We will also set our model to evaluation mode using `net.eval()`. This is important because some layers, like Dropout and BatchNorm, behave differently during training and evaluation."
      ]
    },
    {
      "cell_type": "code",
      "execution_count": 9,
      "metadata": {
        "colab": {
          "base_uri": "https://localhost:8080/"
        },
        "id": "L2jCtRq4N0HE",
        "outputId": "8d5e3203-b004-44f1-d815-5c2081907ec5"
      },
      "outputs": [
        {
          "output_type": "stream",
          "name": "stdout",
          "text": [
            "Accuracy of the network on the 10000 test images: 70.69 %\n"
          ]
        }
      ],
      "source": [
        "correct = 0\n",
        "total = 0\n",
        "\n",
        "# Set model to evaluation mode\n",
        "net.eval()\n",
        "\n",
        "# Since we're not training, we don't need to calculate the gradients for our outputs\n",
        "with torch.no_grad():\n",
        "    for data in testloader:\n",
        "        images, labels = data\n",
        "        images, labels = images.to(device), labels.to(device)\n",
        "\n",
        "        # Calculate outputs by running images through the network\n",
        "        outputs = net(images)\n",
        "\n",
        "        # The class with the highest probability is what we choose as prediction\n",
        "        _, predicted = torch.max(outputs,1)\n",
        "\n",
        "        total += labels.size(0)\n",
        "        correct += (predicted == labels).sum().item()\n",
        "\n",
        "accuracy = 100 * correct / total\n",
        "print(f'Accuracy of the network on the 10000 test images: {accuracy:.2f} %')"
      ]
    },
    {
      "cell_type": "markdown",
      "metadata": {
        "id": "6iiTvvcLN0HF"
      },
      "source": [
        "## 8: Making Predictions on Individual Images"
      ]
    },
    {
      "cell_type": "code",
      "execution_count": 10,
      "metadata": {
        "colab": {
          "base_uri": "https://localhost:8080/",
          "height": 228
        },
        "id": "qisxODUCN0HF",
        "outputId": "d6731461-1dc6-4a05-a5d1-a46d6626366f"
      },
      "outputs": [
        {
          "output_type": "display_data",
          "data": {
            "text/plain": [
              "<Figure size 640x480 with 1 Axes>"
            ],
            "image/png": "[encoded data removed]"
          },
          "metadata": {}
        },
        {
          "output_type": "stream",
          "name": "stdout",
          "text": [
            "GroundTruth:  cat   ship  ship  plane\n",
            "Predicted:    cat   ship  ship  ship \n"
          ]
        }
      ],
      "source": [
        "# Get a batch of test images\n",
        "dataiter = iter(testloader)\n",
        "images, labels = next(dataiter)\n",
        "\n",
        "# Print images and true labels\n",
        "imshow(torchvision.utils.make_grid(images))\n",
        "print('GroundTruth: ', ' '.join(f'{classes[labels[j]]:5s}' for j in range(batch_size)))\n",
        "\n",
        "# Get predictions\n",
        "outputs = net(images.to(device))\n",
        "_, predicted = torch.max(outputs, 1)\n",
        "\n",
        "print('Predicted:   ', ' '.join(f'{classes[predicted[j]]:5s}' for j in range(batch_size)))"
      ]
    },
    {
      "cell_type": "markdown",
      "metadata": {
        "id": "pdrNu6gDN0HF"
      },
      "source": [
        "\n",
        "**Where to go from here?**\n",
        "*   **Improve the model:** Try adding more layers, using different kernel sizes, or adding **Dropout** layers (`nn.Dropout`) to reduce overfitting.\n",
        "*   **Data Augmentation:** Add more transformations (like random flips or rotations) to your `transform` pipeline to create a more robust model."
      ]
    },
    {
      "cell_type": "markdown",
      "metadata": {
        "id": "NMFVkBe3N0HF"
      },
      "source": []
    }
  ],
  "metadata": {
    "kernelspec": {
      "display_name": "Python 3",
      "name": "python3"
    },
    "language_info": {
      "codemirror_mode": {
        "name": "ipython",
        "version": 3
      },
      "file_extension": ".py",
      "mimetype": "text/x-python",
      "name": "python",
      "nbconvert_exporter": "python",
      "pygments_lexer": "ipython3",
      "version": "3.11.5"
    },
    "colab": {
      "provenance": [],
      "gpuType": "T4"
    },
    "accelerator": "GPU"
  },
  "nbformat": 4,
  "nbformat_minor": 0
}